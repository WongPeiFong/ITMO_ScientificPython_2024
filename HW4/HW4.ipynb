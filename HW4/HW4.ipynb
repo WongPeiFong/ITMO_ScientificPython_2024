import numpy as np
import pandas as pd
import matplotlib.pyplot as plt
import seaborn as sns
import warnings
warnings.filterwarnings('ignore')
%matplotlib inline


data = pd.read_csv("heart.csv")
data.head()


data.isnull().sum()

data.dtypes

string_col = data.select_dtypes(include="object").columns
data[string_col]=data[string_col].astype("string")

data.dtypes

string_col=data.select_dtypes("string").columns.to_list()
num_col=data.columns.to_list()
for col in string_col:
    num_col.remove(col)
num_col.remove("HeartDisease")
data.describe().T

f, ax = plt.subplots(1, 2, figsize=(8, 4))
data['HeartDisease'].value_counts().plot.pie(explode=[0,0.1],autopct='%1.1f%%',ax=ax[0],shadow=True, colors=sns.color_palette('Set2'))
ax[0].set_title('HeartDisease')
ax[0].set_ylabel('')
sns.countplot(data, x='HeartDisease', ax=ax[1], palette='Set2')
ax[1].set_title('HeartDisease')
plt.show()

pd.crosstab(data.Sex, data.HeartDisease, margins=True).style.background_gradient(cmap='summer_r')

f, ax=plt.subplots(1, 2, figsize=(8,3))

data[['Sex','HeartDisease']].groupby(['Sex']).mean().plot.bar(ax=ax[0], color='teal')
ax[0].set_title('HeartDisease vs Sex')

sns.countplot(data, x='Sex',hue='HeartDisease', ax=ax[1], palette='Set2')
ax[1].set_title('Sex: HeartDisease vs Age')

plt.show()

pd.crosstab(data.Age, data.HeartDisease, margins=True).style.background_gradient(cmap='summer_r')

f, ax = plt.subplots(1, 2, figsize=(12,3))

data['Age'].value_counts().plot.bar(color=sns.color_palette('Set2'), ax=ax[0])
ax[0].set_title('Number Of Passengers By Age')
ax[0].set_ylabel('count')

sns.countplot(data, x='Age', hue='HeartDisease', ax=ax[1], palette='Set2')
ax[1].set_title('Age: HeartDisease vs Age')

plt.show()

pd.crosstab([data.Sex,data.HeartDisease], data.ChestPainType, margins=True).style.background_gradient(cmap='summer_r')

sns.catplot(data, x='ChestPainType', y='HeartDisease', hue='Sex', palette='Set2',
            kind="point", height=3, aspect=1)

plt.figure(figsize=(15,10))
sns.pairplot(data,hue="HeartDisease")
plt.title("Looking for Insites in Data")
plt.legend("HeartDisease")
plt.tight_layout()
plt.plot()

fig = px.box(data,y="Age",x="HeartDisease",title=f"Distrubution of Age")
fig.show()

fig = px.box(data,y="RestingBP",x="HeartDisease",title=f"Distrubution of RestingBP",color="Sex")
fig.show()

fig = px.box(data,y="Cholesterol",x="HeartDisease",title=f"Distrubution of Cholesterol")
fig.show()

fig = px.box(data,y="Oldpeak",x="HeartDisease",title=f"Distrubution of Oldpeak")
fig.show()

fig = px.box(data,y="MaxHR",x="HeartDisease",title=f"Distrubution of MaxHR")
fig.show()

f, ax=plt.subplots(1,2, figsize=(15,6))

sns.violinplot(data, x="ChestPainType", y="Age", hue="HeartDisease", split=True, ax=ax[0], palette="Set2")
ax[0].set_title('ChestPainType and Age vs HeartDisease')
ax[0].set_yticks(range(0, 110, 10))

sns.violinplot(data, x="Sex", y="Age", hue="HeartDisease", split=True, ax=ax[1], palette="Set2")
ax[1].set_title('Sex and Age vs HeartDisease')
ax[1].set_yticks(range(0, 110, 10))

plt.show()

data[string_col].head()
for col in string_col:
    print(f"The distribution of categorical valeus in the {col} is : ")
    print(data[col].value_counts())

print('Oldest Passenger was of:',data['Age'].max(),'Years')
print('Youngest Passenger was of:',data['Age'].min(),'Years')
print('Average Age on the ship:',data['Age'].mean(),'Years')

f, ax=plt.subplots(1,2,figsize=(10,3))

data[data['HeartDisease']==0].Age.plot.hist(ax=ax[0], bins=20, edgecolor='black', color='teal')
ax[0].set_title('HeartDisease= 0')
x1=list(range(0,85,5))
ax[0].set_xticks(x1)

data[data['HeartDisease']==1].Age.plot.hist(ax=ax[1], color='lavender', bins=20, edgecolor='black')
ax[1].set_title('HeartDisease= 1')
x2=list(range(0,85,5))
ax[1].set_xticks(x2)

plt.show()

sns.catplot(data, x='Sex', y='HeartDisease', kind='point', color='teal')

pd.crosstab([data.ChestPainType, data.RestingECG],[data.Sex, data.HeartDisease], margins=True).style.background_gradient(cmap='summer_r')

sns.catplot(data, x='RestingECG', y='HeartDisease', kind='point',
            color='teal', height=3, aspect=1)

f, ax=plt.subplots(2,2, figsize=(11,7))

sns.countplot(data, x='RestingECG', ax=ax[0,0], color='teal')
ax[0,0].set_title('No. Of Passengers Boarded')

sns.countplot(data, x='RestingECG',hue='Sex', ax=ax[0,1], palette='Set2')
ax[0,1].set_title('Male-Female Split for RestingECG')

sns.countplot(data, x='RestingECG', hue='HeartDisease', ax=ax[1,0], palette='Set2')
ax[1,0].set_title('RestingECG vs Survived')

sns.countplot(data, x='RestingECG', hue='ChestPainType', ax=ax[1,1], palette='Set2')
ax[1,1].set_title('RestingECG vs ChestPainType')

plt.subplots_adjust(wspace=0.2, hspace=0.5)

plt.show()

sns.catplot(data, x='ChestPainType', y='HeartDisease', hue='Sex', col='RestingECG', kind='point', palette='Set2')

data['RestingECG'].fillna('S', inplace=True)

data.RestingECG.isnull().any()
